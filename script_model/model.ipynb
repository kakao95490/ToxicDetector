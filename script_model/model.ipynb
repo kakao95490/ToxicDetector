{
  "nbformat": 4,
  "nbformat_minor": 0,
  "metadata": {
    "colab": {
      "provenance": [],
      "gpuType": "T4"
    },
    "kernelspec": {
      "name": "python3",
      "display_name": "Python 3"
    },
    "language_info": {
      "name": "python"
    },
    "accelerator": "GPU"
  },
  "cells": [
    {
      "cell_type": "code",
      "execution_count": 1,
      "metadata": {
        "colab": {
          "base_uri": "https://localhost:8080/"
        },
        "id": "wzsI7To11kU_",
        "outputId": "ccbeddde-de7e-4fa4-da8e-70844a1d2e90"
      },
      "outputs": [
        {
          "output_type": "stream",
          "name": "stdout",
          "text": [
            "Mounted at /content/drive\n"
          ]
        }
      ],
      "source": [
        "   # mount drive\n",
        "\n",
        "from google.colab import drive\n",
        "drive.mount('/content/drive')\n"
      ]
    },
    {
      "cell_type": "code",
      "source": [
        "import pandas as pd\n",
        "import matplotlib.pyplot as plt\n",
        "import numpy as np\n",
        "from tensorflow.keras.preprocessing.sequence import pad_sequences\n",
        "import ast\n",
        "from tensorflow.keras.models import Sequential\n",
        "from tensorflow.keras.layers import Embedding, LSTM, Dense, GRU, Dropout, Bidirectional, BatchNormalization, LeakyReLU,Masking\n",
        "from tensorflow.keras.optimizers import Adam, AdamW\n",
        "from tensorflow.keras.layers import Embedding, Bidirectional, LSTM, Dense, Dropout, BatchNormalization, LeakyReLU\n",
        "from tensorflow.keras.callbacks import EarlyStopping, ReduceLROnPlateau\n",
        "from tensorflow.keras.models import load_model\n",
        "\n",
        "from tensorflow.keras.regularizers import l2\n",
        "\n"
      ],
      "metadata": {
        "id": "oQQ_ztFU1pUB"
      },
      "execution_count": 2,
      "outputs": []
    },
    {
      "cell_type": "code",
      "source": [
        "#get files\n",
        "df_train = pd.read_csv('/content/drive/MyDrive/data/train_preprocessed.csv')\n",
        "df_test = pd.read_csv('/content/drive/MyDrive/data/test_preprocessed.csv')\n",
        "df_validation = pd.read_csv('/content/drive/MyDrive/data/validation_preprocessed.csv')\n",
        "df_dico = pd.read_csv('/content/drive/MyDrive/data/dico.csv')"
      ],
      "metadata": {
        "id": "QqZhnjP411T-"
      },
      "execution_count": 3,
      "outputs": []
    },
    {
      "cell_type": "code",
      "source": [
        "print(df_train.shape)\n",
        "print(df_test.shape)\n",
        "print(df_validation.shape)\n",
        "print(df_dico.shape)\n",
        "print(df_train.columns)\n"
      ],
      "metadata": {
        "colab": {
          "base_uri": "https://localhost:8080/"
        },
        "id": "7Kjdqg8L2Du8",
        "outputId": "28f081cd-b8cb-4b70-decd-4298db1468e9"
      },
      "execution_count": 4,
      "outputs": [
        {
          "output_type": "stream",
          "name": "stdout",
          "text": [
            "(49966, 12)\n",
            "(14988, 12)\n",
            "(14882, 12)\n",
            "(75931, 2)\n",
            "Index(['id', 'comment_text', 'toxic', 'severe_toxic', 'obscene', 'threat',\n",
            "       'insult', 'identity_hate', 'comment_text_tokenized_sw',\n",
            "       'comment_text_tokenized', 'comment_text_tokenized_swnumbered',\n",
            "       'comment_text_tokenizednumbered'],\n",
            "      dtype='object')\n"
          ]
        }
      ]
    },
    {
      "cell_type": "code",
      "source": [
        "print(df_train.columns)"
      ],
      "metadata": {
        "colab": {
          "base_uri": "https://localhost:8080/"
        },
        "id": "frm8v7KpXjov",
        "outputId": "56456d5d-e930-431a-9d82-0f8009b8c208"
      },
      "execution_count": 7,
      "outputs": [
        {
          "output_type": "stream",
          "name": "stdout",
          "text": [
            "Index(['id', 'comment_text', 'toxic', 'severe_toxic', 'obscene', 'threat',\n",
            "       'insult', 'identity_hate', 'comment_text_tokenized_sw',\n",
            "       'comment_text_tokenized', 'comment_text_tokenized_swnumbered',\n",
            "       'comment_text_tokenizednumbered'],\n",
            "      dtype='object')\n"
          ]
        }
      ]
    },
    {
      "cell_type": "code",
      "source": [
        "\n",
        "\n",
        "def plot_sentence_lengths(sentences):\n",
        "    \"\"\"\n",
        "    Affiche un graphique des longueurs de phrases dans le dataset.\n",
        "\n",
        "    :param sentences: Liste ou array de phrases tokenisées (liste de listes d'indices de mots).\n",
        "    \"\"\"\n",
        "    # Calculer les longueurs des phrases\n",
        "    lengths = [len(sentence) for sentence in sentences]\n",
        "\n",
        "    # Afficher les statistiques de base\n",
        "    print(f\"Longueur maximale : {max(lengths)}\")\n",
        "    print(f\"Longueur minimale : {min(lengths)}\")\n",
        "    print(f\"Longueur moyenne : {np.mean(lengths):.2f}\")\n",
        "    print(f\"50e percentile (médiane) : {np.median(lengths):.2f}\")\n",
        "    print(f\"90e percentile : {np.percentile(lengths, 90):.2f}\")\n",
        "\n",
        "    # Tracer l'histogramme\n",
        "    plt.figure(figsize=(10, 6))\n",
        "    plt.hist(lengths, bins=50, color='skyblue', edgecolor='black', alpha=0.7)\n",
        "    plt.title(\"Distribution des longueurs de phrases\")\n",
        "    plt.xlabel(\"Longueur des phrases (nombre de mots)\")\n",
        "    plt.ylabel(\"Nombre de phrases\")\n",
        "    plt.grid(axis='y', linestyle='--', alpha=0.7)\n",
        "    plt.xlim(0, 2000)\n",
        "    plt.show()\n",
        "\n",
        "# Exemple d'utilisation avec un dataset fictif\n",
        "# Remplace `X_raw` par ton dataset brut (phrases tokenisées)\n",
        "X_raw = [\n",
        "    [1, 2, 3],               # Phrase courte\n",
        "    [4, 5, 6, 7, 8, 9],      # Phrase plus longue\n",
        "    [10, 11, 12, 13] * 10,   # Phrase très longue\n",
        "    [14],                    # Une phrase d'un mot\n",
        "] * 100  # Multiplication pour simuler plusieurs phrases\n",
        "\n",
        "plot_sentence_lengths(df_train['comment_text_tokenizednumbered'].to_numpy())\n"
      ],
      "metadata": {
        "colab": {
          "base_uri": "https://localhost:8080/",
          "height": 651
        },
        "id": "r04TPpxY2yuv",
        "outputId": "3a196b07-7fcb-4cfd-db94-8135538b10a5"
      },
      "execution_count": null,
      "outputs": [
        {
          "output_type": "stream",
          "name": "stdout",
          "text": [
            "Longueur maximale : 13384\n",
            "Longueur minimale : 2\n",
            "Longueur moyenne : 194.78\n",
            "50e percentile (médiane) : 98.00\n",
            "90e percentile : 420.00\n"
          ]
        },
        {
          "output_type": "display_data",
          "data": {
            "text/plain": [
              "<Figure size 1000x600 with 1 Axes>"
            ],
            "image/png": "[encoded data removed]"
          },
          "metadata": {}
        }
      ]
    },
    {
      "cell_type": "code",
      "source": [
        "\n",
        "\n",
        "def pad_sentences_in_dataframe(df, column_name, max_length):\n",
        "\n",
        "    if column_name not in df.columns:\n",
        "        raise ValueError(f\"La colonne '{column_name}' n'existe pas dans le DataFrame.\")\n",
        "\n",
        "    # Convert strings to lists using ast.literal_eval\n",
        "    df[column_name] = df[column_name].apply(lambda x: ast.literal_eval(x) if isinstance(x, str) else x)\n",
        "\n",
        "    # Appliquer le padding sur les phrases\n",
        "    padded_sequences = pad_sequences(df[column_name], maxlen=max_length, padding='post', truncating='post')\n",
        "\n",
        "    # Ajouter les séquences paddées au DataFrame\n",
        "    df_copy = df.copy()\n",
        "    df_copy['padded_sequences'] = list(padded_sequences)\n",
        "\n",
        "    return df_copy\n",
        "\n",
        "max_sequence_length = 200\n",
        "\n",
        "df_train_padded = pad_sentences_in_dataframe(df_train, 'comment_text_tokenizednumbered', max_sequence_length)\n",
        "df_test_padded = pad_sentences_in_dataframe(df_test, 'comment_text_tokenizednumbered', max_sequence_length)\n",
        "df_validation_padded = pad_sentences_in_dataframe(df_validation, 'comment_text_tokenizednumbered', max_sequence_length)\n",
        "\n",
        "print(df_train_padded.shape)"
      ],
      "metadata": {
        "colab": {
          "base_uri": "https://localhost:8080/"
        },
        "id": "M9p1eXJF3mAa",
        "outputId": "3bbd444b-a343-4645-c114-2094f2a9694f"
      },
      "execution_count": 6,
      "outputs": [
        {
          "output_type": "stream",
          "name": "stdout",
          "text": [
            "(49966, 13)\n"
          ]
        }
      ]
    },
    {
      "cell_type": "code",
      "source": [
        "\n",
        "\n",
        "# 1. Paramètres de base\n",
        "max_vocab_size = len(df_dico)  # Nombre maximum de mots dans le vocabulaire\n",
        "embedding_dim = 128     # Dimension des vecteurs d'embedding\n",
        "batch_size = 256\n",
        "epochs = 10\n",
        "\n",
        "X = df_train_padded['padded_sequences'].to_numpy()\n",
        "y = df_train_padded[['toxic', 'severe_toxic', 'obscene', 'threat', 'insult', 'identity_hate']].values\n",
        "\n",
        "X_val = df_validation_padded['padded_sequences'].to_numpy()\n",
        "y_val = df_validation_padded[['toxic', 'severe_toxic', 'obscene', 'threat', 'insult', 'identity_hate']].values\n",
        "X_val = np.vstack(X_val)\n",
        "# Assurez-vous que les séquences ont une longueur uniforme\n",
        "X = pad_sequences(X, maxlen=max_sequence_length, padding='post')\n",
        "\n",
        "# 3. Construction du modèle\n",
        "model = Sequential([\n",
        "    Embedding(input_dim=max_vocab_size, output_dim=200),\n",
        "    BatchNormalization(),\n",
        "    Bidirectional(LSTM(32, return_sequences=True)),\n",
        "    Dropout(0.5),\n",
        "    Bidirectional(LSTM(32, return_sequences=False)),\n",
        "    Dropout(0.5),\n",
        "    Dense(32, activation='relu'),\n",
        "    Dropout(0.5),\n",
        "    Dense(6, activation='sigmoid')\n",
        "])\n",
        "\n",
        "model.compile(optimizer=AdamW(learning_rate=0.01, weight_decay=1e-4),\n",
        "              loss='binary_crossentropy',\n",
        "              metrics=['accuracy','binary_accuracy','AUC'])\n",
        "\n",
        "# Entraînement\n",
        "history = model.fit(\n",
        "    X, y,\n",
        "    batch_size=batch_size,\n",
        "    epochs=epochs,\n",
        "    validation_data=(X_val, y_val),\n",
        "    callbacks=[EarlyStopping(monitor='val_loss', patience=3, restore_best_weights=True),\n",
        "               ReduceLROnPlateau(monitor='val_loss', factor=0.5, patience=2, min_lr=1e-5)]\n",
        ")\n",
        "\n"
      ],
      "metadata": {
        "colab": {
          "base_uri": "https://localhost:8080/"
        },
        "id": "iNJgAMxd4SiX",
        "outputId": "8044c4a9-b638-43c4-9b9c-c64e0dd7d3dd"
      },
      "execution_count": 8,
      "outputs": [
        {
          "output_type": "stream",
          "name": "stdout",
          "text": [
            "Epoch 1/10\n",
            "\u001b[1m196/196\u001b[0m \u001b[32m━━━━━━━━━━━━━━━━━━━━\u001b[0m\u001b[37m\u001b[0m \u001b[1m29s\u001b[0m 79ms/step - AUC: 0.8308 - accuracy: 0.8088 - binary_accuracy: 0.8784 - loss: 0.2924 - val_AUC: 0.9673 - val_accuracy: 0.9977 - val_binary_accuracy: 0.9690 - val_loss: 0.0825 - learning_rate: 0.0100\n",
            "Epoch 2/10\n",
            "\u001b[1m196/196\u001b[0m \u001b[32m━━━━━━━━━━━━━━━━━━━━\u001b[0m\u001b[37m\u001b[0m \u001b[1m32s\u001b[0m 73ms/step - AUC: 0.9627 - accuracy: 0.9950 - binary_accuracy: 0.9421 - loss: 0.1500 - val_AUC: 0.9681 - val_accuracy: 0.9977 - val_binary_accuracy: 0.9616 - val_loss: 0.1039 - learning_rate: 0.0100\n",
            "Epoch 3/10\n",
            "\u001b[1m196/196\u001b[0m \u001b[32m━━━━━━━━━━━━━━━━━━━━\u001b[0m\u001b[37m\u001b[0m \u001b[1m14s\u001b[0m 73ms/step - AUC: 0.9713 - accuracy: 0.9963 - binary_accuracy: 0.9471 - loss: 0.1338 - val_AUC: 0.9686 - val_accuracy: 0.9977 - val_binary_accuracy: 0.9661 - val_loss: 0.0859 - learning_rate: 0.0100\n",
            "Epoch 4/10\n",
            "\u001b[1m196/196\u001b[0m \u001b[32m━━━━━━━━━━━━━━━━━━━━\u001b[0m\u001b[37m\u001b[0m \u001b[1m20s\u001b[0m 72ms/step - AUC: 0.9757 - accuracy: 0.9963 - binary_accuracy: 0.9526 - loss: 0.1228 - val_AUC: 0.9686 - val_accuracy: 0.9977 - val_binary_accuracy: 0.9635 - val_loss: 0.0930 - learning_rate: 0.0050\n"
          ]
        }
      ]
    },
    {
      "cell_type": "code",
      "source": [
        "X_test = df_test_padded['padded_sequences'].to_numpy()\n",
        "y_test = df_test_padded[['toxic', 'severe_toxic', 'obscene', 'threat', 'insult', 'identity_hate']].to_numpy()\n",
        "X_test = np.vstack(X_test)\n",
        "\n",
        "results = model.evaluate(X_test, y_test, batch_size=batch_size)\n",
        "loss = results[0]\n",
        "accuracy = results[1]\n",
        "binary_accuracy = results[2]\n",
        "auc = results[3]\n",
        "\n",
        "\n",
        "print(f\"Loss: {loss}, Accuracy: {accuracy}, Binary Accuracy: {binary_accuracy}, AUC: {auc}\")"
      ],
      "metadata": {
        "id": "DQSw6REsAXbF",
        "colab": {
          "base_uri": "https://localhost:8080/"
        },
        "outputId": "49de1402-7b95-4fc8-fe8a-605373200c7c"
      },
      "execution_count": 12,
      "outputs": [
        {
          "output_type": "stream",
          "name": "stdout",
          "text": [
            "\u001b[1m59/59\u001b[0m \u001b[32m━━━━━━━━━━━━━━━━━━━━\u001b[0m\u001b[37m\u001b[0m \u001b[1m1s\u001b[0m 21ms/step - AUC: 0.9703 - accuracy: 0.9984 - binary_accuracy: 0.9716 - loss: 0.0745\n",
            "Loss: 0.07866403460502625, Accuracy: 0.9979316592216492, Binary Accuracy: 0.970020592212677, AUC: 0.9696613550186157\n"
          ]
        }
      ]
    },
    {
      "cell_type": "code",
      "source": [
        "\n",
        "\n",
        "\n",
        "model.save('/content/drive/MyDrive/categorisedToxicity.keras')\n"
      ],
      "metadata": {
        "id": "AIMdZ_Jezmjz"
      },
      "execution_count": 13,
      "outputs": []
    }
  ]
}