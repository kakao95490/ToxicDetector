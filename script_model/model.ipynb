{
  "nbformat": 4,
  "nbformat_minor": 0,
  "metadata": {
    "colab": {
      "provenance": [],
      "gpuType": "T4"
    },
    "kernelspec": {
      "name": "python3",
      "display_name": "Python 3"
    },
    "language_info": {
      "name": "python"
    },
    "accelerator": "GPU"
  },
  "cells": [
    {
      "cell_type": "code",
      "execution_count": 3,
      "metadata": {
        "colab": {
          "base_uri": "https://localhost:8080/"
        },
        "id": "wzsI7To11kU_",
        "outputId": "2fc3fcfe-25ed-41c3-c567-1c6a69715ada"
      },
      "outputs": [
        {
          "output_type": "stream",
          "name": "stdout",
          "text": [
            "Mounted at /content/drive\n"
          ]
        }
      ],
      "source": [
        "   # mount drive\n",
        "\n",
        "from google.colab import drive\n",
        "drive.mount('/content/drive')\n"
      ]
    },
    {
      "cell_type": "code",
      "source": [
        "import pandas as pd\n",
        "import matplotlib.pyplot as plt\n",
        "import numpy as np\n",
        "from tensorflow.keras.preprocessing.sequence import pad_sequences\n",
        "import ast\n",
        "from tensorflow.keras.models import Sequential\n",
        "from tensorflow.keras.layers import Embedding, LSTM, Dense, GRU, Dropout, Bidirectional, BatchNormalization, LeakyReLU,Masking\n",
        "from tensorflow.keras.optimizers import Adam, AdamW\n",
        "from tensorflow.keras.layers import Embedding, Bidirectional, LSTM, Dense, Dropout, BatchNormalization, LeakyReLU\n",
        "from tensorflow.keras.callbacks import EarlyStopping, ReduceLROnPlateau\n",
        "from tensorflow.keras.models import load_model\n",
        "\n",
        "from tensorflow.keras.regularizers import l2\n",
        "\n"
      ],
      "metadata": {
        "id": "oQQ_ztFU1pUB"
      },
      "execution_count": 4,
      "outputs": []
    },
    {
      "cell_type": "code",
      "source": [
        "#get files\n",
        "df_train = pd.read_csv('/content/drive/MyDrive/train_preprocessed.csv')\n",
        "df_test = pd.read_csv('/content/drive/MyDrive/test_preprocessed.csv')\n",
        "df_validation = pd.read_csv('/content/drive/MyDrive/validation_preprocessed.csv')\n",
        "df_dico = pd.read_csv('/content/drive/MyDrive/dico.csv')"
      ],
      "metadata": {
        "id": "QqZhnjP411T-"
      },
      "execution_count": 5,
      "outputs": []
    },
    {
      "cell_type": "code",
      "source": [
        "print(df_train.shape)\n",
        "print(df_test.shape)\n",
        "print(df_validation.shape)\n",
        "print(df_dico.shape)\n",
        "print(df_train.columns)\n"
      ],
      "metadata": {
        "colab": {
          "base_uri": "https://localhost:8080/"
        },
        "id": "7Kjdqg8L2Du8",
        "outputId": "6afb9e70-2c37-445a-ce3c-8229849d4839"
      },
      "execution_count": 6,
      "outputs": [
        {
          "output_type": "stream",
          "name": "stdout",
          "text": [
            "(41233, 12)\n",
            "(5891, 12)\n",
            "(11781, 12)\n",
            "(67379, 2)\n",
            "Index(['id', 'comment_text', 'toxic', 'severe_toxic', 'obscene', 'threat',\n",
            "       'insult', 'identity_hate', 'comment_text_tokenized_sw',\n",
            "       'comment_text_tokenized', 'comment_text_tokenized_swnumbered',\n",
            "       'comment_text_tokenizednumbered'],\n",
            "      dtype='object')\n"
          ]
        }
      ]
    },
    {
      "cell_type": "code",
      "source": [
        "print(df_train.columns)"
      ],
      "metadata": {
        "colab": {
          "base_uri": "https://localhost:8080/"
        },
        "id": "frm8v7KpXjov",
        "outputId": "fb9944ca-38d6-4f93-910c-a6631132d207"
      },
      "execution_count": 7,
      "outputs": [
        {
          "output_type": "stream",
          "name": "stdout",
          "text": [
            "Index(['id', 'comment_text', 'toxic', 'severe_toxic', 'obscene', 'threat',\n",
            "       'insult', 'identity_hate', 'comment_text_tokenized_sw',\n",
            "       'comment_text_tokenized', 'comment_text_tokenized_swnumbered',\n",
            "       'comment_text_tokenizednumbered'],\n",
            "      dtype='object')\n"
          ]
        }
      ]
    },
    {
      "cell_type": "code",
      "source": [
        "\n",
        "\n",
        "def plot_sentence_lengths(sentences):\n",
        "    \"\"\"\n",
        "    Affiche un graphique des longueurs de phrases dans le dataset.\n",
        "\n",
        "    :param sentences: Liste ou array de phrases tokenisées (liste de listes d'indices de mots).\n",
        "    \"\"\"\n",
        "    # Calculer les longueurs des phrases\n",
        "    lengths = [len(sentence) for sentence in sentences]\n",
        "\n",
        "    # Afficher les statistiques de base\n",
        "    print(f\"Longueur maximale : {max(lengths)}\")\n",
        "    print(f\"Longueur minimale : {min(lengths)}\")\n",
        "    print(f\"Longueur moyenne : {np.mean(lengths):.2f}\")\n",
        "    print(f\"50e percentile (médiane) : {np.median(lengths):.2f}\")\n",
        "    print(f\"90e percentile : {np.percentile(lengths, 90):.2f}\")\n",
        "\n",
        "    # Tracer l'histogramme\n",
        "    plt.figure(figsize=(10, 6))\n",
        "    plt.hist(lengths, bins=50, color='skyblue', edgecolor='black', alpha=0.7)\n",
        "    plt.title(\"Distribution des longueurs de phrases\")\n",
        "    plt.xlabel(\"Longueur des phrases (nombre de mots)\")\n",
        "    plt.ylabel(\"Nombre de phrases\")\n",
        "    plt.grid(axis='y', linestyle='--', alpha=0.7)\n",
        "    plt.xlim(0, 2000)\n",
        "    plt.show()\n",
        "\n",
        "# Exemple d'utilisation avec un dataset fictif\n",
        "# Remplace `X_raw` par ton dataset brut (phrases tokenisées)\n",
        "X_raw = [\n",
        "    [1, 2, 3],               # Phrase courte\n",
        "    [4, 5, 6, 7, 8, 9],      # Phrase plus longue\n",
        "    [10, 11, 12, 13] * 10,   # Phrase très longue\n",
        "    [14],                    # Une phrase d'un mot\n",
        "] * 100  # Multiplication pour simuler plusieurs phrases\n",
        "\n",
        "plot_sentence_lengths(df_train['comment_text_tokenizednumbered'].to_numpy())\n"
      ],
      "metadata": {
        "colab": {
          "base_uri": "https://localhost:8080/",
          "height": 651
        },
        "id": "r04TPpxY2yuv",
        "outputId": "b75d101a-62d1-4bac-fd3c-42b9d4908a5a"
      },
      "execution_count": 8,
      "outputs": [
        {
          "output_type": "stream",
          "name": "stdout",
          "text": [
            "Longueur maximale : 13384\n",
            "Longueur minimale : 2\n",
            "Longueur moyenne : 195.01\n",
            "50e percentile (médiane) : 97.00\n",
            "90e percentile : 416.80\n"
          ]
        },
        {
          "output_type": "display_data",
          "data": {
            "text/plain": [
              "<Figure size 1000x600 with 1 Axes>"
            ],
            "image/png": "[encoded data removed]"
          },
          "metadata": {}
        }
      ]
    },
    {
      "cell_type": "code",
      "source": [
        "\n",
        "\n",
        "def pad_sentences_in_dataframe(df, column_name, max_length):\n",
        "\n",
        "    if column_name not in df.columns:\n",
        "        raise ValueError(f\"La colonne '{column_name}' n'existe pas dans le DataFrame.\")\n",
        "\n",
        "    # Convert strings to lists using ast.literal_eval\n",
        "    df[column_name] = df[column_name].apply(lambda x: ast.literal_eval(x) if isinstance(x, str) else x)\n",
        "\n",
        "    # Appliquer le padding sur les phrases\n",
        "    padded_sequences = pad_sequences(df[column_name], maxlen=max_length, padding='post', truncating='post')\n",
        "\n",
        "    # Ajouter les séquences paddées au DataFrame\n",
        "    df_copy = df.copy()\n",
        "    df_copy['padded_sequences'] = list(padded_sequences)\n",
        "\n",
        "    return df_copy\n",
        "\n",
        "max_sequence_length = 250\n",
        "\n",
        "df_train_padded = pad_sentences_in_dataframe(df_train, 'comment_text_tokenizednumbered', max_sequence_length)\n",
        "df_test_padded = pad_sentences_in_dataframe(df_test, 'comment_text_tokenizednumbered', max_sequence_length)\n",
        "df_validation_padded = pad_sentences_in_dataframe(df_validation, 'comment_text_tokenizednumbered', max_sequence_length)\n",
        "\n",
        "print(df_train_padded.shape)"
      ],
      "metadata": {
        "colab": {
          "base_uri": "https://localhost:8080/"
        },
        "id": "M9p1eXJF3mAa",
        "outputId": "7ed5c6c9-4270-42d0-b1a1-be78e7d5e883"
      },
      "execution_count": 9,
      "outputs": [
        {
          "output_type": "stream",
          "name": "stdout",
          "text": [
            "(41233, 13)\n"
          ]
        }
      ]
    },
    {
      "cell_type": "code",
      "source": [
        "from sklearn.utils.class_weight import compute_class_weight\n",
        "import numpy as np\n",
        "\n",
        "# Classes binaires, donc calcul des poids pour chaque classe individuellement\n",
        "class_weights = {}\n",
        "for column in ['toxic', 'severe_toxic', 'obscene', 'threat', 'insult', 'identity_hate']:\n",
        "    # Get unique classes from the target variable\n",
        "    unique_classes = np.unique(df_train_padded[column].values)\n",
        "\n",
        "    # Compute class weights for this label\n",
        "    weights = compute_class_weight(\n",
        "        class_weight='balanced',\n",
        "        classes=unique_classes,\n",
        "        y=df_train_padded[column].values\n",
        "    )\n",
        "\n",
        "    # Store weights for this label in the dictionary\n",
        "    class_weights[column] = {0: weights[0], 1: weights[1]}  # Create a dictionary for each label\n",
        "\n",
        "\n",
        "# Convertir les poids en dictionnaire utilisable\n",
        "# No change needed here, this line is correct\n",
        "class_weights_dict = class_weights\n",
        "\n"
      ],
      "metadata": {
        "id": "kH7lvE-hA4Cp"
      },
      "execution_count": 10,
      "outputs": []
    },
    {
      "cell_type": "code",
      "source": [
        "\n",
        "for col, weights in class_weights_dict.items():\n",
        "  print(f\"Class weights for {col}: {weights}\")"
      ],
      "metadata": {
        "colab": {
          "base_uri": "https://localhost:8080/"
        },
        "id": "ommlPdSZCdUJ",
        "outputId": "7bb1b9f3-e615-4c69-f921-724d753f463c"
      },
      "execution_count": 11,
      "outputs": [
        {
          "output_type": "stream",
          "name": "stdout",
          "text": [
            "Class weights for toxic: {0: 0.7514944958810236, 1: 1.4940575404014784}\n",
            "Class weights for severe_toxic: {0: 0.5147947463044347, 1: 17.39789029535865}\n",
            "Class weights for obscene: {0: 0.6098112872692854, 1: 2.776632996632997}\n",
            "Class weights for threat: {0: 0.5049227302784649, 1: 51.28482587064676}\n",
            "Class weights for insult: {0: 0.5995259974409678, 1: 3.0119065010956905}\n",
            "Class weights for identity_hate: {0: 0.515489823473521, 1: 16.639628732849072}\n"
          ]
        }
      ]
    },
    {
      "cell_type": "code",
      "source": [
        "import tensorflow as tf\n",
        "def hierarchical_loss(penalty_weight=1.0):\n",
        "    \"\"\"\n",
        "    Fonction de perte personnalisée avec une pénalité pour erreurs hiérarchiques.\n",
        "    :param penalty_weight: Poids de la pénalité pour une violation de la hiérarchie.\n",
        "    \"\"\"\n",
        "    def loss(y_true, y_pred):\n",
        "        # Calcul de la perte de base (Binary Crossentropy pour multi-label classification)\n",
        "        base_loss = tf.keras.losses.binary_crossentropy(y_true, y_pred)\n",
        "\n",
        "        # Définir les relations hiérarchiques (sous-classe -> classe parent)\n",
        "        parent_indices = 0  # Index de la classe 'toxic'\n",
        "        sub_class_indices = [2, 3, 4, 5]  # Index des sous-classes ['obscene', 'threat', 'insult', 'identity_hate']\n",
        "\n",
        "        # Pénalités hiérarchiques\n",
        "        penalties = 0.0\n",
        "        for sub_idx in sub_class_indices:\n",
        "            # Si une sous-classe est détectée (y_pred > 0.5) mais pas la classe parent (toxic)\n",
        "            condition = tf.logical_and(y_pred[:, sub_idx] > 0.5, y_pred[:, parent_indices] <= 0.5)\n",
        "            penalties += tf.reduce_mean(tf.cast(condition, tf.float32))  # Ajoute une pénalité\n",
        "\n",
        "        # Ajouter la pénalité pondérée à la perte\n",
        "        total_loss = base_loss + penalty_weight * penalties\n",
        "        return total_loss\n",
        "\n",
        "    return loss"
      ],
      "metadata": {
        "id": "bfoFbXKzEA6D"
      },
      "execution_count": 12,
      "outputs": []
    },
    {
      "cell_type": "code",
      "source": [
        "from tensorflow.keras.models import Sequential\n",
        "from tensorflow.keras.layers import Embedding, SimpleRNN, BatchNormalization, Dropout, Dense\n",
        "\n",
        "\n",
        "# 1. Paramètres de base\n",
        "max_vocab_size = len(df_dico)  # Nombre maximum de mots dans le vocabulaire\n",
        "embedding_dim = 128     # Dimension des vecteurs d'embedding\n",
        "batch_size = 256\n",
        "epochs = 15\n",
        "\n",
        "X = df_train_padded['padded_sequences'].to_numpy()\n",
        "y = df_train_padded[['toxic', 'severe_toxic', 'obscene', 'threat', 'insult', 'identity_hate']].values\n",
        "\n",
        "X_val = df_validation_padded['padded_sequences'].to_numpy()\n",
        "y_val = df_validation_padded[['toxic', 'severe_toxic', 'obscene', 'threat', 'insult', 'identity_hate']].values\n",
        "X_val = np.vstack(X_val)\n",
        "# Assurez-vous que les séquences ont une longueur uniforme\n",
        "X = pad_sequences(X, maxlen=max_sequence_length, padding='post')\n",
        "\n",
        "# 3. Construction du modèle\n",
        "model = Sequential([\n",
        "    Embedding(input_dim=max_vocab_size, output_dim=200),\n",
        "    BatchNormalization(),\n",
        "    Bidirectional(LSTM(32, return_sequences=True)),\n",
        "    Dropout(0.5),\n",
        "    Bidirectional(LSTM(32, return_sequences=False)),\n",
        "    Dropout(0.5),\n",
        "    Dense(32, activation='relu'),\n",
        "    Dropout(0.5),\n",
        "    Dense(6, activation='sigmoid')\n",
        "])\n",
        "\n",
        "model.compile(optimizer=AdamW(learning_rate=0.01, weight_decay=1e-4),\n",
        "              loss=hierarchical_loss(penalty_weight=2.0),\n",
        "              metrics=['accuracy','binary_accuracy','AUC'])\n",
        "\n",
        "# Entraînement\n",
        "history = model.fit(\n",
        "    X, y,\n",
        "    batch_size=batch_size,\n",
        "    epochs=epochs,\n",
        "    validation_data=(X_val, y_val),\n",
        "    callbacks=[EarlyStopping(monitor='val_loss', patience=4, restore_best_weights=True),\n",
        "    ReduceLROnPlateau(monitor='val_loss', factor=0.5, patience=2, min_lr=1e-5)],\n",
        "    class_weight=class_weights_dict\n",
        ")\n",
        "\n"
      ],
      "metadata": {
        "colab": {
          "base_uri": "https://localhost:8080/"
        },
        "id": "iNJgAMxd4SiX",
        "outputId": "0261e2dc-5ca2-46aa-9abb-a3123785e8df"
      },
      "execution_count": 13,
      "outputs": [
        {
          "output_type": "stream",
          "name": "stdout",
          "text": [
            "Epoch 1/15\n",
            "\u001b[1m162/162\u001b[0m \u001b[32m━━━━━━━━━━━━━━━━━━━━\u001b[0m\u001b[37m\u001b[0m \u001b[1m28s\u001b[0m 89ms/step - AUC: 0.8501 - accuracy: 0.7831 - binary_accuracy: 0.8792 - loss: 0.5077 - val_AUC: 0.9661 - val_accuracy: 0.9961 - val_binary_accuracy: 0.9480 - val_loss: 0.1395 - learning_rate: 0.0100\n",
            "Epoch 2/15\n",
            "\u001b[1m162/162\u001b[0m \u001b[32m━━━━━━━━━━━━━━━━━━━━\u001b[0m\u001b[37m\u001b[0m \u001b[1m32s\u001b[0m 83ms/step - AUC: 0.9674 - accuracy: 0.9948 - binary_accuracy: 0.9461 - loss: 0.1399 - val_AUC: 0.9665 - val_accuracy: 0.9961 - val_binary_accuracy: 0.9483 - val_loss: 0.1385 - learning_rate: 0.0100\n",
            "Epoch 3/15\n",
            "\u001b[1m162/162\u001b[0m \u001b[32m━━━━━━━━━━━━━━━━━━━━\u001b[0m\u001b[37m\u001b[0m \u001b[1m21s\u001b[0m 84ms/step - AUC: 0.9727 - accuracy: 0.9960 - binary_accuracy: 0.9505 - loss: 0.1275 - val_AUC: 0.9674 - val_accuracy: 0.9961 - val_binary_accuracy: 0.9489 - val_loss: 0.1357 - learning_rate: 0.0100\n",
            "Epoch 4/15\n",
            "\u001b[1m162/162\u001b[0m \u001b[32m━━━━━━━━━━━━━━━━━━━━\u001b[0m\u001b[37m\u001b[0m \u001b[1m20s\u001b[0m 83ms/step - AUC: 0.9771 - accuracy: 0.9952 - binary_accuracy: 0.9539 - loss: 0.1188 - val_AUC: 0.8485 - val_accuracy: 0.9961 - val_binary_accuracy: 0.6111 - val_loss: 1.1596 - learning_rate: 0.0100\n",
            "Epoch 5/15\n",
            "\u001b[1m162/162\u001b[0m \u001b[32m━━━━━━━━━━━━━━━━━━━━\u001b[0m\u001b[37m\u001b[0m \u001b[1m20s\u001b[0m 83ms/step - AUC: 0.9797 - accuracy: 0.9952 - binary_accuracy: 0.9555 - loss: 0.1134 - val_AUC: 0.9677 - val_accuracy: 0.9961 - val_binary_accuracy: 0.9481 - val_loss: 0.1371 - learning_rate: 0.0100\n",
            "Epoch 6/15\n",
            "\u001b[1m162/162\u001b[0m \u001b[32m━━━━━━━━━━━━━━━━━━━━\u001b[0m\u001b[37m\u001b[0m \u001b[1m20s\u001b[0m 83ms/step - AUC: 0.9821 - accuracy: 0.9963 - binary_accuracy: 0.9589 - loss: 0.1066 - val_AUC: 0.9634 - val_accuracy: 0.9961 - val_binary_accuracy: 0.9457 - val_loss: 0.1552 - learning_rate: 0.0050\n",
            "Epoch 7/15\n",
            "\u001b[1m162/162\u001b[0m \u001b[32m━━━━━━━━━━━━━━━━━━━━\u001b[0m\u001b[37m\u001b[0m \u001b[1m21s\u001b[0m 83ms/step - AUC: 0.9826 - accuracy: 0.9953 - binary_accuracy: 0.9598 - loss: 0.1040 - val_AUC: 0.9575 - val_accuracy: 0.9961 - val_binary_accuracy: 0.9481 - val_loss: 0.1619 - learning_rate: 0.0050\n"
          ]
        }
      ]
    },
    {
      "cell_type": "code",
      "source": [
        "X_test = df_test_padded['padded_sequences'].to_numpy()\n",
        "y_test = df_test_padded[['toxic', 'severe_toxic', 'obscene', 'threat', 'insult', 'identity_hate']].to_numpy()\n",
        "X_test = np.vstack(X_test)\n",
        "\n",
        "results = model.evaluate(X_test, y_test, batch_size=batch_size)\n",
        "loss = results[0]\n",
        "accuracy = results[1]\n",
        "binary_accuracy = results[2]\n",
        "auc = results[3]\n",
        "\n",
        "\n",
        "print(f\"Loss: {loss}, Accuracy: {accuracy}, Binary Accuracy: {binary_accuracy}, AUC: {auc}\")"
      ],
      "metadata": {
        "id": "DQSw6REsAXbF",
        "colab": {
          "base_uri": "https://localhost:8080/"
        },
        "outputId": "999a1ad4-9677-40ae-fe96-9e9dbcf7086c"
      },
      "execution_count": 14,
      "outputs": [
        {
          "output_type": "stream",
          "name": "stdout",
          "text": [
            "\u001b[1m24/24\u001b[0m \u001b[32m━━━━━━━━━━━━━━━━━━━━\u001b[0m\u001b[37m\u001b[0m \u001b[1m1s\u001b[0m 27ms/step - AUC: 0.9665 - accuracy: 0.9966 - binary_accuracy: 0.9478 - loss: 0.1383\n",
            "Loss: 0.1374835968017578, Accuracy: 0.9959259629249573, Binary Accuracy: 0.9478300213813782, AUC: 0.9664991497993469\n"
          ]
        }
      ]
    },
    {
      "cell_type": "code",
      "source": [
        "\n",
        "\n",
        "from sklearn.metrics import classification_report\n",
        "\n",
        "# ... (your existing code) ...\n",
        "\n",
        "X_test = df_test_padded['padded_sequences'].to_numpy()\n",
        "y_test = df_test_padded[['toxic', 'severe_toxic', 'obscene', 'threat', 'insult', 'identity_hate']].to_numpy()\n",
        "X_test = np.vstack(X_test)\n",
        "\n",
        "y_pred = model.predict(X_test)\n",
        "y_pred_classes = (y_pred > 0.5).astype(int) # Convert probabilities to class labels\n",
        "\n",
        "# Calculate and print the classification report\n",
        "report = classification_report(y_test, y_pred_classes, target_names=['toxic', 'severe_toxic', 'obscene', 'threat', 'insult', 'identity_hate'], output_dict=True)\n",
        "\n",
        "#Print macro average\n",
        "print(f\"Macro Average:\\n{report['macro avg']}\")\n",
        "\n",
        "#Print for each class\n",
        "for label in ['toxic', 'severe_toxic', 'obscene', 'threat', 'insult', 'identity_hate']:\n",
        "    print(f\"Class: {label}\\n{report[label]}\")"
      ],
      "metadata": {
        "colab": {
          "base_uri": "https://localhost:8080/"
        },
        "id": "9VvHOeMBzNmL",
        "outputId": "c8234811-cf3e-433a-be51-e152aaf68b00"
      },
      "execution_count": 15,
      "outputs": [
        {
          "output_type": "stream",
          "name": "stdout",
          "text": [
            "\u001b[1m185/185\u001b[0m \u001b[32m━━━━━━━━━━━━━━━━━━━━\u001b[0m\u001b[37m\u001b[0m \u001b[1m4s\u001b[0m 20ms/step\n",
            "Macro Average:\n",
            "{'precision': 0.42079421270845757, 'recall': 0.3628943603606977, 'f1-score': 0.3888554309125211, 'support': 4355.0}\n",
            "Class: toxic\n",
            "{'precision': 0.9047619047619048, 'recall': 0.8498714652956298, 'f1-score': 0.876458112407211, 'support': 1945.0}\n",
            "Class: severe_toxic\n",
            "{'precision': 0.0, 'recall': 0.0, 'f1-score': 0.0, 'support': 175.0}\n",
            "Class: obscene\n",
            "{'precision': 0.8375136314067612, 'recall': 0.7420289855072464, 'f1-score': 0.7868852459016393, 'support': 1035.0}\n",
            "Class: threat\n",
            "{'precision': 0.0, 'recall': 0.0, 'f1-score': 0.0, 'support': 61.0}\n",
            "Class: insult\n",
            "{'precision': 0.7824897400820794, 'recall': 0.5854657113613101, 'f1-score': 0.6697892271662763, 'support': 977.0}\n",
            "Class: identity_hate\n",
            "{'precision': 0.0, 'recall': 0.0, 'f1-score': 0.0, 'support': 162.0}\n"
          ]
        },
        {
          "output_type": "stream",
          "name": "stderr",
          "text": [
            "/usr/local/lib/python3.10/dist-packages/sklearn/metrics/_classification.py:1565: UndefinedMetricWarning: Precision is ill-defined and being set to 0.0 in labels with no predicted samples. Use `zero_division` parameter to control this behavior.\n",
            "  _warn_prf(average, modifier, f\"{metric.capitalize()} is\", len(result))\n",
            "/usr/local/lib/python3.10/dist-packages/sklearn/metrics/_classification.py:1565: UndefinedMetricWarning: Precision is ill-defined and being set to 0.0 in samples with no predicted labels. Use `zero_division` parameter to control this behavior.\n",
            "  _warn_prf(average, modifier, f\"{metric.capitalize()} is\", len(result))\n",
            "/usr/local/lib/python3.10/dist-packages/sklearn/metrics/_classification.py:1565: UndefinedMetricWarning: Recall is ill-defined and being set to 0.0 in samples with no true labels. Use `zero_division` parameter to control this behavior.\n",
            "  _warn_prf(average, modifier, f\"{metric.capitalize()} is\", len(result))\n",
            "/usr/local/lib/python3.10/dist-packages/sklearn/metrics/_classification.py:1565: UndefinedMetricWarning: F-score is ill-defined and being set to 0.0 in samples with no true nor predicted labels. Use `zero_division` parameter to control this behavior.\n",
            "  _warn_prf(average, modifier, f\"{metric.capitalize()} is\", len(result))\n"
          ]
        }
      ]
    },
    {
      "cell_type": "code",
      "source": [
        "\n",
        "import seaborn as sns\n",
        "import matplotlib.pyplot as plt\n",
        "import numpy as np\n",
        "from sklearn.metrics import confusion_matrix\n",
        "\n",
        "# Assuming y_test and y_pred_classes are defined as in your previous code\n",
        "\n",
        "# Create a single heatmap for all classes\n",
        "plt.figure(figsize=(10, 8))\n",
        "for i in range(6):\n",
        "    plt.subplot(2, 3, i + 1)  # Create subplots for each class\n",
        "    cm = confusion_matrix(y_test[:, i], y_pred_classes[:, i])\n",
        "    sns.heatmap(cm, annot=True, fmt=\"d\", cmap=\"Blues\", cbar=False)\n",
        "    plt.title(df_test_padded.columns[i + 2])\n",
        "    plt.xlabel(\"Predicted\")\n",
        "    plt.ylabel(\"True\")\n",
        "\n",
        "plt.tight_layout()\n",
        "plt.show()"
      ],
      "metadata": {
        "colab": {
          "base_uri": "https://localhost:8080/",
          "height": 807
        },
        "id": "_6pb6KSu0Njo",
        "outputId": "2424f4ac-bccc-440a-a431-8c1da575a3d6"
      },
      "execution_count": 16,
      "outputs": [
        {
          "output_type": "display_data",
          "data": {
            "text/plain": [
              "<Figure size 1000x800 with 6 Axes>"
            ],
            "image/png": "[encoded data removed]"
          },
          "metadata": {}
        }
      ]
    },
    {
      "cell_type": "code",
      "source": [
        "\n",
        "\n",
        "\n",
        "model.save('/content/drive/MyDrive/categorisedToxicity.keras')\n"
      ],
      "metadata": {
        "id": "AIMdZ_Jezmjz"
      },
      "execution_count": 17,
      "outputs": []
    }
  ]
}